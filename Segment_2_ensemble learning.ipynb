{
 "cells": [
  {
   "cell_type": "code",
   "execution_count": 1,
   "id": "dc4dc77f",
   "metadata": {},
   "outputs": [
    {
     "data": {
      "text/html": [
       "<div>\n",
       "<style scoped>\n",
       "    .dataframe tbody tr th:only-of-type {\n",
       "        vertical-align: middle;\n",
       "    }\n",
       "\n",
       "    .dataframe tbody tr th {\n",
       "        vertical-align: top;\n",
       "    }\n",
       "\n",
       "    .dataframe thead th {\n",
       "        text-align: right;\n",
       "    }\n",
       "</style>\n",
       "<table border=\"1\" class=\"dataframe\">\n",
       "  <thead>\n",
       "    <tr style=\"text-align: right;\">\n",
       "      <th></th>\n",
       "      <th>Month</th>\n",
       "      <th>Annual_Income</th>\n",
       "      <th>Monthly_Inhand_Salary</th>\n",
       "      <th>Num_Bank_Accounts</th>\n",
       "      <th>Num_Credit_Card</th>\n",
       "      <th>Interest_Rate</th>\n",
       "      <th>Num_of_Loan</th>\n",
       "      <th>Delay_from_due_date</th>\n",
       "      <th>Num_of_Delayed_Payment</th>\n",
       "      <th>Num_Credit_Inquiries</th>\n",
       "      <th>Outstanding_Debt</th>\n",
       "      <th>Credit_Utilization_Ratio</th>\n",
       "      <th>Credit_History_Age</th>\n",
       "      <th>Payment_of_Min_Amount</th>\n",
       "      <th>Total_EMI_per_month</th>\n",
       "      <th>Amount_invested_monthly</th>\n",
       "      <th>Payment_Behaviour</th>\n",
       "      <th>Monthly_Balance</th>\n",
       "      <th>Credit_Score</th>\n",
       "      <th>Age</th>\n",
       "    </tr>\n",
       "  </thead>\n",
       "  <tbody>\n",
       "    <tr>\n",
       "      <th>0</th>\n",
       "      <td>1</td>\n",
       "      <td>19114.12</td>\n",
       "      <td>1824.843333</td>\n",
       "      <td>3</td>\n",
       "      <td>4</td>\n",
       "      <td>3</td>\n",
       "      <td>4.0</td>\n",
       "      <td>3</td>\n",
       "      <td>7.0</td>\n",
       "      <td>4.0</td>\n",
       "      <td>809.98</td>\n",
       "      <td>26.822620</td>\n",
       "      <td>22.1</td>\n",
       "      <td>No</td>\n",
       "      <td>49.574949</td>\n",
       "      <td>80.415295</td>\n",
       "      <td>High_spent_Small_value_payments</td>\n",
       "      <td>312.494089</td>\n",
       "      <td>Good</td>\n",
       "      <td>23.0</td>\n",
       "    </tr>\n",
       "    <tr>\n",
       "      <th>1</th>\n",
       "      <td>7</td>\n",
       "      <td>19114.12</td>\n",
       "      <td>1824.843333</td>\n",
       "      <td>3</td>\n",
       "      <td>4</td>\n",
       "      <td>3</td>\n",
       "      <td>4.0</td>\n",
       "      <td>3</td>\n",
       "      <td>8.0</td>\n",
       "      <td>4.0</td>\n",
       "      <td>809.98</td>\n",
       "      <td>22.537593</td>\n",
       "      <td>22.7</td>\n",
       "      <td>No</td>\n",
       "      <td>49.574949</td>\n",
       "      <td>178.344067</td>\n",
       "      <td>Low_spent_Small_value_payments</td>\n",
       "      <td>244.565317</td>\n",
       "      <td>Good</td>\n",
       "      <td>23.0</td>\n",
       "    </tr>\n",
       "    <tr>\n",
       "      <th>2</th>\n",
       "      <td>1</td>\n",
       "      <td>30689.89</td>\n",
       "      <td>2612.490833</td>\n",
       "      <td>2</td>\n",
       "      <td>5</td>\n",
       "      <td>4</td>\n",
       "      <td>1.0</td>\n",
       "      <td>0</td>\n",
       "      <td>6.0</td>\n",
       "      <td>4.0</td>\n",
       "      <td>632.46</td>\n",
       "      <td>26.544229</td>\n",
       "      <td>17.3</td>\n",
       "      <td>No</td>\n",
       "      <td>16.415452</td>\n",
       "      <td>81.228859</td>\n",
       "      <td>Low_spent_Large_value_payments</td>\n",
       "      <td>433.604773</td>\n",
       "      <td>Standard</td>\n",
       "      <td>55.0</td>\n",
       "    </tr>\n",
       "    <tr>\n",
       "      <th>3</th>\n",
       "      <td>2</td>\n",
       "      <td>30689.89</td>\n",
       "      <td>2612.490833</td>\n",
       "      <td>2</td>\n",
       "      <td>5</td>\n",
       "      <td>4</td>\n",
       "      <td>1.0</td>\n",
       "      <td>5</td>\n",
       "      <td>3.0</td>\n",
       "      <td>4.0</td>\n",
       "      <td>632.46</td>\n",
       "      <td>35.279982</td>\n",
       "      <td>17.4</td>\n",
       "      <td>No</td>\n",
       "      <td>16.415452</td>\n",
       "      <td>124.881820</td>\n",
       "      <td>Low_spent_Small_value_payments</td>\n",
       "      <td>409.951812</td>\n",
       "      <td>Standard</td>\n",
       "      <td>55.0</td>\n",
       "    </tr>\n",
       "    <tr>\n",
       "      <th>4</th>\n",
       "      <td>3</td>\n",
       "      <td>30689.89</td>\n",
       "      <td>2612.490833</td>\n",
       "      <td>2</td>\n",
       "      <td>5</td>\n",
       "      <td>4</td>\n",
       "      <td>1.0</td>\n",
       "      <td>3</td>\n",
       "      <td>9.0</td>\n",
       "      <td>4.0</td>\n",
       "      <td>632.46</td>\n",
       "      <td>32.301163</td>\n",
       "      <td>17.5</td>\n",
       "      <td>NM</td>\n",
       "      <td>16.415452</td>\n",
       "      <td>83.406509</td>\n",
       "      <td>High_spent_Medium_value_payments</td>\n",
       "      <td>411.427123</td>\n",
       "      <td>Standard</td>\n",
       "      <td>55.0</td>\n",
       "    </tr>\n",
       "  </tbody>\n",
       "</table>\n",
       "</div>"
      ],
      "text/plain": [
       "   Month  Annual_Income  Monthly_Inhand_Salary  Num_Bank_Accounts  \\\n",
       "0      1       19114.12            1824.843333                  3   \n",
       "1      7       19114.12            1824.843333                  3   \n",
       "2      1       30689.89            2612.490833                  2   \n",
       "3      2       30689.89            2612.490833                  2   \n",
       "4      3       30689.89            2612.490833                  2   \n",
       "\n",
       "   Num_Credit_Card  Interest_Rate  Num_of_Loan  Delay_from_due_date  \\\n",
       "0                4              3          4.0                    3   \n",
       "1                4              3          4.0                    3   \n",
       "2                5              4          1.0                    0   \n",
       "3                5              4          1.0                    5   \n",
       "4                5              4          1.0                    3   \n",
       "\n",
       "   Num_of_Delayed_Payment  Num_Credit_Inquiries  Outstanding_Debt  \\\n",
       "0                     7.0                   4.0            809.98   \n",
       "1                     8.0                   4.0            809.98   \n",
       "2                     6.0                   4.0            632.46   \n",
       "3                     3.0                   4.0            632.46   \n",
       "4                     9.0                   4.0            632.46   \n",
       "\n",
       "   Credit_Utilization_Ratio  Credit_History_Age Payment_of_Min_Amount  \\\n",
       "0                 26.822620                22.1                    No   \n",
       "1                 22.537593                22.7                    No   \n",
       "2                 26.544229                17.3                    No   \n",
       "3                 35.279982                17.4                    No   \n",
       "4                 32.301163                17.5                    NM   \n",
       "\n",
       "   Total_EMI_per_month  Amount_invested_monthly  \\\n",
       "0            49.574949                80.415295   \n",
       "1            49.574949               178.344067   \n",
       "2            16.415452                81.228859   \n",
       "3            16.415452               124.881820   \n",
       "4            16.415452                83.406509   \n",
       "\n",
       "                  Payment_Behaviour  Monthly_Balance Credit_Score   Age  \n",
       "0   High_spent_Small_value_payments       312.494089         Good  23.0  \n",
       "1    Low_spent_Small_value_payments       244.565317         Good  23.0  \n",
       "2    Low_spent_Large_value_payments       433.604773     Standard  55.0  \n",
       "3    Low_spent_Small_value_payments       409.951812     Standard  55.0  \n",
       "4  High_spent_Medium_value_payments       411.427123     Standard  55.0  "
      ]
     },
     "execution_count": 1,
     "metadata": {},
     "output_type": "execute_result"
    }
   ],
   "source": [
    "import numpy as np\n",
    "import pandas as pd\n",
    "from pathlib import Path\n",
    "from collections import Counter\n",
    "import warnings\n",
    "warnings.filterwarnings('ignore')\n",
    "\n",
    "#  Import and read the charity_data.csv.\n",
    "credit_score_df = pd.read_csv(\"credit_score_new.csv\")\n",
    "credit_score_df.head()\n",
    "credit_score_df = credit_score_df.drop(['Type_of_Loan','Unnamed: 0','Customer_ID','ID','Name','Occupation'],axis = 1)\n",
    "credit_score_df.head()\n"
   ]
  },
  {
   "cell_type": "code",
   "execution_count": 2,
   "id": "1a3ebe98",
   "metadata": {},
   "outputs": [],
   "source": [
    "from sklearn.metrics import balanced_accuracy_score\n",
    "from sklearn.metrics import confusion_matrix\n",
    "from imblearn.metrics import classification_report_imbalanced"
   ]
  },
  {
   "cell_type": "raw",
   "id": "c298017d",
   "metadata": {},
   "source": [
    "Ensemble Learners "
   ]
  },
  {
   "cell_type": "code",
   "execution_count": 3,
   "id": "c6c973c8",
   "metadata": {},
   "outputs": [],
   "source": [
    "# Create our features\n",
    "X = credit_score_df.copy()\n",
    "X = X.drop(\"Credit_Score\", axis=1)\n",
    "X = pd.get_dummies(X)\n",
    "\n",
    "\n",
    "\n",
    "# Create our target\n",
    "y = pd.DataFrame(credit_score_df,columns = [\"Credit_Score\"])\n"
   ]
  },
  {
   "cell_type": "code",
   "execution_count": 4,
   "id": "b7ba365d",
   "metadata": {},
   "outputs": [],
   "source": [
    "from sklearn.model_selection import train_test_split\n",
    "X_train, X_test, y_train, y_test = train_test_split(X, y, random_state=1)"
   ]
  },
  {
   "cell_type": "code",
   "execution_count": 5,
   "id": "61542592",
   "metadata": {},
   "outputs": [
    {
     "data": {
      "text/plain": [
       "BalancedRandomForestClassifier(random_state=1)"
      ]
     },
     "execution_count": 5,
     "metadata": {},
     "output_type": "execute_result"
    }
   ],
   "source": [
    "# Resample the training data with the BalancedRandomForestClassifier\n",
    "from imblearn.ensemble import BalancedRandomForestClassifier\n",
    "clf = BalancedRandomForestClassifier(random_state=1, n_estimators=100)\n",
    "clf = clf.fit(X_train, y_train)\n",
    "clf\n",
    "\n"
   ]
  },
  {
   "cell_type": "code",
   "execution_count": 6,
   "id": "cf0aeb61",
   "metadata": {},
   "outputs": [
    {
     "data": {
      "text/plain": [
       "0.7556544705127921"
      ]
     },
     "execution_count": 6,
     "metadata": {},
     "output_type": "execute_result"
    }
   ],
   "source": [
    "# Calculated the balanced accuracy score\n",
    "predictions = clf.predict(X_test)\n",
    "from sklearn.metrics import confusion_matrix, balanced_accuracy_score, classification_report\n",
    "balanced_accuracy_score(y_test, predictions)"
   ]
  },
  {
   "cell_type": "code",
   "execution_count": 7,
   "id": "a870afce",
   "metadata": {},
   "outputs": [
    {
     "data": {
      "text/plain": [
       "array([[1863,   39,  215],\n",
       "       [ 342, 2959,  293],\n",
       "       [1411, 1394, 3623]])"
      ]
     },
     "execution_count": 7,
     "metadata": {},
     "output_type": "execute_result"
    }
   ],
   "source": [
    "# Display the confusion matrix\n",
    "confusion_matrix(y_test, predictions)"
   ]
  },
  {
   "cell_type": "code",
   "execution_count": 8,
   "id": "77d01cc4",
   "metadata": {},
   "outputs": [
    {
     "name": "stdout",
     "output_type": "stream",
     "text": [
      "                   pre       rec       spe        f1       geo       iba       sup\n",
      "\n",
      "       Good       0.52      0.88      0.83      0.65      0.85      0.73      2117\n",
      "       Poor       0.67      0.82      0.83      0.74      0.83      0.68      3594\n",
      "   Standard       0.88      0.56      0.91      0.69      0.72      0.50      6428\n",
      "\n",
      "avg / total       0.75      0.70      0.87      0.70      0.77      0.59     12139\n",
      "\n"
     ]
    }
   ],
   "source": [
    "# Print the imbalanced classification report\n",
    "print(classification_report_imbalanced(y_test, predictions))\n"
   ]
  },
  {
   "cell_type": "code",
   "execution_count": 9,
   "id": "68534f73",
   "metadata": {},
   "outputs": [
    {
     "name": "stdout",
     "output_type": "stream",
     "text": [
      "Outstanding_Debt: (0.12379571611376546)\n",
      "Interest_Rate: (0.10336781248310586)\n",
      "Delay_from_due_date: (0.06815863333473247)\n",
      "Credit_History_Age: (0.06763034276561575)\n",
      "Num_Credit_Inquiries: (0.04941657266326485)\n",
      "Monthly_Inhand_Salary: (0.045251672402518046)\n",
      "Total_EMI_per_month: (0.04479906414295073)\n",
      "Annual_Income: (0.04446861664569113)\n",
      "Monthly_Balance: (0.04360256498525273)\n",
      "Credit_Utilization_Ratio: (0.042698111278240684)\n",
      "Amount_invested_monthly: (0.042527658776808336)\n",
      "Num_of_Delayed_Payment: (0.04236840477790194)\n",
      "Num_Credit_Card: (0.03965487002403447)\n",
      "Num_Bank_Accounts: (0.037924543416859635)\n",
      "Payment_of_Min_Amount_No: (0.0358531104147205)\n",
      "Payment_of_Min_Amount_Yes: (0.035388364042120465)\n",
      "Age: (0.03469230649363442)\n",
      "Month: (0.03405655064060846)\n",
      "Num_of_Loan: (0.0302450496673667)\n",
      "Payment_Behaviour_Low_spent_Small_value_payments: (0.005991548044034805)\n",
      "Payment_Behaviour_High_spent_Medium_value_payments: (0.0054874504575602836)\n",
      "Payment_Behaviour_Low_spent_Medium_value_payments: (0.004846185524040759)\n",
      "Payment_of_Min_Amount_NM: (0.004714574190235171)\n",
      "Payment_Behaviour_High_spent_Small_value_payments: (0.00450338304408854)\n",
      "Payment_Behaviour_Low_spent_Large_value_payments: (0.004366081363808655)\n",
      "Payment_Behaviour_High_spent_Large_value_payments: (0.004190812307039057)\n"
     ]
    }
   ],
   "source": [
    "# List the features sorted in descending order by feature importance\n",
    "sorted(zip(clf.feature_importances_,X.columns), reverse=True)\n",
    "importance_display1 = sorted(zip(clf.feature_importances_,X.columns), reverse=True)\n",
    "for i in importance_display1:\n",
    "    print(f\"{i[1]}: ({i[0]})\")"
   ]
  },
  {
   "cell_type": "raw",
   "id": "cf38672b",
   "metadata": {},
   "source": [
    "Easy Ensemble AdaBoost Classifier"
   ]
  },
  {
   "cell_type": "code",
   "execution_count": 10,
   "id": "c2baa3c5",
   "metadata": {},
   "outputs": [
    {
     "data": {
      "text/plain": [
       "EasyEnsembleClassifier(n_estimators=100, random_state=1)"
      ]
     },
     "execution_count": 10,
     "metadata": {},
     "output_type": "execute_result"
    }
   ],
   "source": [
    "# Train the EasyEnsembleClassifier\n",
    "from imblearn.ensemble import EasyEnsembleClassifier\n",
    "ecc = EasyEnsembleClassifier(random_state=1,n_estimators=100)\n",
    "ecc.fit(X_train,y_train)\n"
   ]
  },
  {
   "cell_type": "code",
   "execution_count": 11,
   "id": "f2302b53",
   "metadata": {},
   "outputs": [
    {
     "data": {
      "text/plain": [
       "0.6692672015266705"
      ]
     },
     "execution_count": 11,
     "metadata": {},
     "output_type": "execute_result"
    }
   ],
   "source": [
    "# Calculated the balanced accuracy score\n",
    "y_pred = ecc.predict(X_test)\n",
    "balanced_accuracy_score(y_test, y_pred)"
   ]
  },
  {
   "cell_type": "code",
   "execution_count": 12,
   "id": "906ae654",
   "metadata": {},
   "outputs": [
    {
     "data": {
      "text/plain": [
       "array([[1666,   60,  391],\n",
       "       [ 479, 2499,  616],\n",
       "       [1686, 1364, 3378]])"
      ]
     },
     "execution_count": 12,
     "metadata": {},
     "output_type": "execute_result"
    }
   ],
   "source": [
    "# Display the confusion matrix\n",
    "confusion_matrix(y_test, y_pred)"
   ]
  },
  {
   "cell_type": "code",
   "execution_count": 13,
   "id": "4980b9d8",
   "metadata": {},
   "outputs": [
    {
     "name": "stdout",
     "output_type": "stream",
     "text": [
      "                   pre       rec       spe        f1       geo       iba       sup\n",
      "\n",
      "       Good       0.43      0.79      0.78      0.56      0.79      0.62      2117\n",
      "       Poor       0.64      0.70      0.83      0.66      0.76      0.57      3594\n",
      "   Standard       0.77      0.53      0.82      0.62      0.66      0.42      6428\n",
      "\n",
      "avg / total       0.67      0.62      0.82      0.63      0.71      0.50     12139\n",
      "\n"
     ]
    }
   ],
   "source": [
    "# Print the imbalanced classification report\n",
    "from imblearn.metrics import classification_report_imbalanced\n",
    "print(classification_report_imbalanced(y_test, y_pred))"
   ]
  },
  {
   "cell_type": "code",
   "execution_count": null,
   "id": "64ba7064",
   "metadata": {},
   "outputs": [],
   "source": []
  }
 ],
 "metadata": {
  "kernelspec": {
   "display_name": "mlenv",
   "language": "python",
   "name": "mlenv"
  },
  "language_info": {
   "codemirror_mode": {
    "name": "ipython",
    "version": 3
   },
   "file_extension": ".py",
   "mimetype": "text/x-python",
   "name": "python",
   "nbconvert_exporter": "python",
   "pygments_lexer": "ipython3",
   "version": "3.7.13"
  }
 },
 "nbformat": 4,
 "nbformat_minor": 5
}
