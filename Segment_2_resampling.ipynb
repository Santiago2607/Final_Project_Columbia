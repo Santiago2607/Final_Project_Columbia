{
 "cells": [
  {
   "cell_type": "code",
   "execution_count": 1,
   "id": "b2802a4a",
   "metadata": {},
   "outputs": [],
   "source": [
    "import numpy as np\n",
    "import pandas as pd\n"
   ]
  },
  {
   "cell_type": "code",
   "execution_count": 2,
   "id": "276144ef",
   "metadata": {},
   "outputs": [
    {
     "data": {
      "text/html": [
       "<div>\n",
       "<style scoped>\n",
       "    .dataframe tbody tr th:only-of-type {\n",
       "        vertical-align: middle;\n",
       "    }\n",
       "\n",
       "    .dataframe tbody tr th {\n",
       "        vertical-align: top;\n",
       "    }\n",
       "\n",
       "    .dataframe thead th {\n",
       "        text-align: right;\n",
       "    }\n",
       "</style>\n",
       "<table border=\"1\" class=\"dataframe\">\n",
       "  <thead>\n",
       "    <tr style=\"text-align: right;\">\n",
       "      <th></th>\n",
       "      <th>Unnamed: 0</th>\n",
       "      <th>ID</th>\n",
       "      <th>Customer_ID</th>\n",
       "      <th>Month</th>\n",
       "      <th>Annual_Income</th>\n",
       "      <th>Monthly_Inhand_Salary</th>\n",
       "      <th>Num_Bank_Accounts</th>\n",
       "      <th>Num_Credit_Card</th>\n",
       "      <th>Interest_Rate</th>\n",
       "      <th>Num_of_Loan</th>\n",
       "      <th>...</th>\n",
       "      <th>Credit_History_Age</th>\n",
       "      <th>Payment_of_Min_Amount</th>\n",
       "      <th>Total_EMI_per_month</th>\n",
       "      <th>Amount_invested_monthly</th>\n",
       "      <th>Payment_Behaviour</th>\n",
       "      <th>Monthly_Balance</th>\n",
       "      <th>Credit_Score</th>\n",
       "      <th>Name</th>\n",
       "      <th>Age</th>\n",
       "      <th>Occupation</th>\n",
       "    </tr>\n",
       "  </thead>\n",
       "  <tbody>\n",
       "    <tr>\n",
       "      <th>0</th>\n",
       "      <td>0</td>\n",
       "      <td>0x1602</td>\n",
       "      <td>CUS_0xd40</td>\n",
       "      <td>1</td>\n",
       "      <td>19114.12</td>\n",
       "      <td>1824.843333</td>\n",
       "      <td>3</td>\n",
       "      <td>4</td>\n",
       "      <td>3</td>\n",
       "      <td>4.0</td>\n",
       "      <td>...</td>\n",
       "      <td>22.1</td>\n",
       "      <td>No</td>\n",
       "      <td>49.574949</td>\n",
       "      <td>80.415295</td>\n",
       "      <td>High_spent_Small_value_payments</td>\n",
       "      <td>312.494089</td>\n",
       "      <td>Good</td>\n",
       "      <td>Aaron Maashoh</td>\n",
       "      <td>23.0</td>\n",
       "      <td>Scientist</td>\n",
       "    </tr>\n",
       "    <tr>\n",
       "      <th>1</th>\n",
       "      <td>1</td>\n",
       "      <td>0x1608</td>\n",
       "      <td>CUS_0xd40</td>\n",
       "      <td>7</td>\n",
       "      <td>19114.12</td>\n",
       "      <td>1824.843333</td>\n",
       "      <td>3</td>\n",
       "      <td>4</td>\n",
       "      <td>3</td>\n",
       "      <td>4.0</td>\n",
       "      <td>...</td>\n",
       "      <td>22.7</td>\n",
       "      <td>No</td>\n",
       "      <td>49.574949</td>\n",
       "      <td>178.344067</td>\n",
       "      <td>Low_spent_Small_value_payments</td>\n",
       "      <td>244.565317</td>\n",
       "      <td>Good</td>\n",
       "      <td>Aaron Maashoh</td>\n",
       "      <td>23.0</td>\n",
       "      <td>Scientist</td>\n",
       "    </tr>\n",
       "    <tr>\n",
       "      <th>2</th>\n",
       "      <td>2</td>\n",
       "      <td>0x1626</td>\n",
       "      <td>CUS_0xb891</td>\n",
       "      <td>1</td>\n",
       "      <td>30689.89</td>\n",
       "      <td>2612.490833</td>\n",
       "      <td>2</td>\n",
       "      <td>5</td>\n",
       "      <td>4</td>\n",
       "      <td>1.0</td>\n",
       "      <td>...</td>\n",
       "      <td>17.3</td>\n",
       "      <td>No</td>\n",
       "      <td>16.415452</td>\n",
       "      <td>81.228859</td>\n",
       "      <td>Low_spent_Large_value_payments</td>\n",
       "      <td>433.604773</td>\n",
       "      <td>Standard</td>\n",
       "      <td>Jasond</td>\n",
       "      <td>55.0</td>\n",
       "      <td>Entrepreneur</td>\n",
       "    </tr>\n",
       "    <tr>\n",
       "      <th>3</th>\n",
       "      <td>3</td>\n",
       "      <td>0x1627</td>\n",
       "      <td>CUS_0xb891</td>\n",
       "      <td>2</td>\n",
       "      <td>30689.89</td>\n",
       "      <td>2612.490833</td>\n",
       "      <td>2</td>\n",
       "      <td>5</td>\n",
       "      <td>4</td>\n",
       "      <td>1.0</td>\n",
       "      <td>...</td>\n",
       "      <td>17.4</td>\n",
       "      <td>No</td>\n",
       "      <td>16.415452</td>\n",
       "      <td>124.881820</td>\n",
       "      <td>Low_spent_Small_value_payments</td>\n",
       "      <td>409.951812</td>\n",
       "      <td>Standard</td>\n",
       "      <td>Jasond</td>\n",
       "      <td>55.0</td>\n",
       "      <td>Entrepreneur</td>\n",
       "    </tr>\n",
       "    <tr>\n",
       "      <th>4</th>\n",
       "      <td>4</td>\n",
       "      <td>0x1628</td>\n",
       "      <td>CUS_0xb891</td>\n",
       "      <td>3</td>\n",
       "      <td>30689.89</td>\n",
       "      <td>2612.490833</td>\n",
       "      <td>2</td>\n",
       "      <td>5</td>\n",
       "      <td>4</td>\n",
       "      <td>1.0</td>\n",
       "      <td>...</td>\n",
       "      <td>17.5</td>\n",
       "      <td>NM</td>\n",
       "      <td>16.415452</td>\n",
       "      <td>83.406509</td>\n",
       "      <td>High_spent_Medium_value_payments</td>\n",
       "      <td>411.427123</td>\n",
       "      <td>Standard</td>\n",
       "      <td>Jasond</td>\n",
       "      <td>55.0</td>\n",
       "      <td>Entrepreneur</td>\n",
       "    </tr>\n",
       "  </tbody>\n",
       "</table>\n",
       "<p>5 rows × 26 columns</p>\n",
       "</div>"
      ],
      "text/plain": [
       "   Unnamed: 0      ID Customer_ID  Month  Annual_Income  \\\n",
       "0           0  0x1602   CUS_0xd40      1       19114.12   \n",
       "1           1  0x1608   CUS_0xd40      7       19114.12   \n",
       "2           2  0x1626  CUS_0xb891      1       30689.89   \n",
       "3           3  0x1627  CUS_0xb891      2       30689.89   \n",
       "4           4  0x1628  CUS_0xb891      3       30689.89   \n",
       "\n",
       "   Monthly_Inhand_Salary  Num_Bank_Accounts  Num_Credit_Card  Interest_Rate  \\\n",
       "0            1824.843333                  3                4              3   \n",
       "1            1824.843333                  3                4              3   \n",
       "2            2612.490833                  2                5              4   \n",
       "3            2612.490833                  2                5              4   \n",
       "4            2612.490833                  2                5              4   \n",
       "\n",
       "   Num_of_Loan  ... Credit_History_Age  Payment_of_Min_Amount  \\\n",
       "0          4.0  ...               22.1                     No   \n",
       "1          4.0  ...               22.7                     No   \n",
       "2          1.0  ...               17.3                     No   \n",
       "3          1.0  ...               17.4                     No   \n",
       "4          1.0  ...               17.5                     NM   \n",
       "\n",
       "   Total_EMI_per_month  Amount_invested_monthly  \\\n",
       "0            49.574949                80.415295   \n",
       "1            49.574949               178.344067   \n",
       "2            16.415452                81.228859   \n",
       "3            16.415452               124.881820   \n",
       "4            16.415452                83.406509   \n",
       "\n",
       "                  Payment_Behaviour  Monthly_Balance  Credit_Score  \\\n",
       "0   High_spent_Small_value_payments       312.494089          Good   \n",
       "1    Low_spent_Small_value_payments       244.565317          Good   \n",
       "2    Low_spent_Large_value_payments       433.604773      Standard   \n",
       "3    Low_spent_Small_value_payments       409.951812      Standard   \n",
       "4  High_spent_Medium_value_payments       411.427123      Standard   \n",
       "\n",
       "            Name   Age    Occupation  \n",
       "0  Aaron Maashoh  23.0     Scientist  \n",
       "1  Aaron Maashoh  23.0     Scientist  \n",
       "2         Jasond  55.0  Entrepreneur  \n",
       "3         Jasond  55.0  Entrepreneur  \n",
       "4         Jasond  55.0  Entrepreneur  \n",
       "\n",
       "[5 rows x 26 columns]"
      ]
     },
     "execution_count": 2,
     "metadata": {},
     "output_type": "execute_result"
    }
   ],
   "source": [
    "#  Import and read the charity_data.csv.\n",
    "credit_score_df = pd.read_csv(\"credit_score_new.csv\")\n",
    "credit_score_df.head()"
   ]
  },
  {
   "cell_type": "code",
   "execution_count": 3,
   "id": "14c9b393",
   "metadata": {},
   "outputs": [
    {
     "data": {
      "text/html": [
       "<div>\n",
       "<style scoped>\n",
       "    .dataframe tbody tr th:only-of-type {\n",
       "        vertical-align: middle;\n",
       "    }\n",
       "\n",
       "    .dataframe tbody tr th {\n",
       "        vertical-align: top;\n",
       "    }\n",
       "\n",
       "    .dataframe thead th {\n",
       "        text-align: right;\n",
       "    }\n",
       "</style>\n",
       "<table border=\"1\" class=\"dataframe\">\n",
       "  <thead>\n",
       "    <tr style=\"text-align: right;\">\n",
       "      <th></th>\n",
       "      <th>Month</th>\n",
       "      <th>Monthly_Inhand_Salary</th>\n",
       "      <th>Num_Bank_Accounts</th>\n",
       "      <th>Num_Credit_Card</th>\n",
       "      <th>Interest_Rate</th>\n",
       "      <th>Num_of_Loan</th>\n",
       "      <th>Delay_from_due_date</th>\n",
       "      <th>Num_of_Delayed_Payment</th>\n",
       "      <th>Num_Credit_Inquiries</th>\n",
       "      <th>Outstanding_Debt</th>\n",
       "      <th>Credit_Utilization_Ratio</th>\n",
       "      <th>Credit_History_Age</th>\n",
       "      <th>Payment_of_Min_Amount</th>\n",
       "      <th>Total_EMI_per_month</th>\n",
       "      <th>Payment_Behaviour</th>\n",
       "      <th>Monthly_Balance</th>\n",
       "      <th>Credit_Score</th>\n",
       "      <th>Age</th>\n",
       "    </tr>\n",
       "  </thead>\n",
       "  <tbody>\n",
       "    <tr>\n",
       "      <th>0</th>\n",
       "      <td>1</td>\n",
       "      <td>1824.843333</td>\n",
       "      <td>3</td>\n",
       "      <td>4</td>\n",
       "      <td>3</td>\n",
       "      <td>4.0</td>\n",
       "      <td>3</td>\n",
       "      <td>7.0</td>\n",
       "      <td>4.0</td>\n",
       "      <td>809.98</td>\n",
       "      <td>26.822620</td>\n",
       "      <td>22.1</td>\n",
       "      <td>No</td>\n",
       "      <td>49.574949</td>\n",
       "      <td>High_spent_Small_value_payments</td>\n",
       "      <td>312.494089</td>\n",
       "      <td>Good</td>\n",
       "      <td>23.0</td>\n",
       "    </tr>\n",
       "    <tr>\n",
       "      <th>1</th>\n",
       "      <td>7</td>\n",
       "      <td>1824.843333</td>\n",
       "      <td>3</td>\n",
       "      <td>4</td>\n",
       "      <td>3</td>\n",
       "      <td>4.0</td>\n",
       "      <td>3</td>\n",
       "      <td>8.0</td>\n",
       "      <td>4.0</td>\n",
       "      <td>809.98</td>\n",
       "      <td>22.537593</td>\n",
       "      <td>22.7</td>\n",
       "      <td>No</td>\n",
       "      <td>49.574949</td>\n",
       "      <td>Low_spent_Small_value_payments</td>\n",
       "      <td>244.565317</td>\n",
       "      <td>Good</td>\n",
       "      <td>23.0</td>\n",
       "    </tr>\n",
       "    <tr>\n",
       "      <th>2</th>\n",
       "      <td>1</td>\n",
       "      <td>2612.490833</td>\n",
       "      <td>2</td>\n",
       "      <td>5</td>\n",
       "      <td>4</td>\n",
       "      <td>1.0</td>\n",
       "      <td>0</td>\n",
       "      <td>6.0</td>\n",
       "      <td>4.0</td>\n",
       "      <td>632.46</td>\n",
       "      <td>26.544229</td>\n",
       "      <td>17.3</td>\n",
       "      <td>No</td>\n",
       "      <td>16.415452</td>\n",
       "      <td>Low_spent_Large_value_payments</td>\n",
       "      <td>433.604773</td>\n",
       "      <td>Standard</td>\n",
       "      <td>55.0</td>\n",
       "    </tr>\n",
       "    <tr>\n",
       "      <th>3</th>\n",
       "      <td>2</td>\n",
       "      <td>2612.490833</td>\n",
       "      <td>2</td>\n",
       "      <td>5</td>\n",
       "      <td>4</td>\n",
       "      <td>1.0</td>\n",
       "      <td>5</td>\n",
       "      <td>3.0</td>\n",
       "      <td>4.0</td>\n",
       "      <td>632.46</td>\n",
       "      <td>35.279982</td>\n",
       "      <td>17.4</td>\n",
       "      <td>No</td>\n",
       "      <td>16.415452</td>\n",
       "      <td>Low_spent_Small_value_payments</td>\n",
       "      <td>409.951812</td>\n",
       "      <td>Standard</td>\n",
       "      <td>55.0</td>\n",
       "    </tr>\n",
       "    <tr>\n",
       "      <th>4</th>\n",
       "      <td>3</td>\n",
       "      <td>2612.490833</td>\n",
       "      <td>2</td>\n",
       "      <td>5</td>\n",
       "      <td>4</td>\n",
       "      <td>1.0</td>\n",
       "      <td>3</td>\n",
       "      <td>9.0</td>\n",
       "      <td>4.0</td>\n",
       "      <td>632.46</td>\n",
       "      <td>32.301163</td>\n",
       "      <td>17.5</td>\n",
       "      <td>NM</td>\n",
       "      <td>16.415452</td>\n",
       "      <td>High_spent_Medium_value_payments</td>\n",
       "      <td>411.427123</td>\n",
       "      <td>Standard</td>\n",
       "      <td>55.0</td>\n",
       "    </tr>\n",
       "  </tbody>\n",
       "</table>\n",
       "</div>"
      ],
      "text/plain": [
       "   Month  Monthly_Inhand_Salary  Num_Bank_Accounts  Num_Credit_Card  \\\n",
       "0      1            1824.843333                  3                4   \n",
       "1      7            1824.843333                  3                4   \n",
       "2      1            2612.490833                  2                5   \n",
       "3      2            2612.490833                  2                5   \n",
       "4      3            2612.490833                  2                5   \n",
       "\n",
       "   Interest_Rate  Num_of_Loan  Delay_from_due_date  Num_of_Delayed_Payment  \\\n",
       "0              3          4.0                    3                     7.0   \n",
       "1              3          4.0                    3                     8.0   \n",
       "2              4          1.0                    0                     6.0   \n",
       "3              4          1.0                    5                     3.0   \n",
       "4              4          1.0                    3                     9.0   \n",
       "\n",
       "   Num_Credit_Inquiries  Outstanding_Debt  Credit_Utilization_Ratio  \\\n",
       "0                   4.0            809.98                 26.822620   \n",
       "1                   4.0            809.98                 22.537593   \n",
       "2                   4.0            632.46                 26.544229   \n",
       "3                   4.0            632.46                 35.279982   \n",
       "4                   4.0            632.46                 32.301163   \n",
       "\n",
       "   Credit_History_Age Payment_of_Min_Amount  Total_EMI_per_month  \\\n",
       "0                22.1                    No            49.574949   \n",
       "1                22.7                    No            49.574949   \n",
       "2                17.3                    No            16.415452   \n",
       "3                17.4                    No            16.415452   \n",
       "4                17.5                    NM            16.415452   \n",
       "\n",
       "                  Payment_Behaviour  Monthly_Balance Credit_Score   Age  \n",
       "0   High_spent_Small_value_payments       312.494089         Good  23.0  \n",
       "1    Low_spent_Small_value_payments       244.565317         Good  23.0  \n",
       "2    Low_spent_Large_value_payments       433.604773     Standard  55.0  \n",
       "3    Low_spent_Small_value_payments       409.951812     Standard  55.0  \n",
       "4  High_spent_Medium_value_payments       411.427123     Standard  55.0  "
      ]
     },
     "execution_count": 3,
     "metadata": {},
     "output_type": "execute_result"
    }
   ],
   "source": [
    "credit_score_df = credit_score_df.drop(['Type_of_Loan','Unnamed: 0','Annual_Income','Customer_ID','ID','Name','Occupation','Amount_invested_monthly'],axis = 1)\n",
    "credit_score_df.head()"
   ]
  },
  {
   "cell_type": "code",
   "execution_count": 4,
   "id": "bf4677c6",
   "metadata": {},
   "outputs": [],
   "source": [
    "# Create our features\n",
    "X = credit_score_df.copy()\n",
    "X = X.drop(\"Credit_Score\", axis=1)\n",
    "X = pd.get_dummies(X)\n",
    "\n",
    "\n",
    "\n",
    "# Create our target\n",
    "y = pd.DataFrame(credit_score_df,columns = [\"Credit_Score\"])\n"
   ]
  },
  {
   "cell_type": "code",
   "execution_count": 5,
   "id": "74c56c25",
   "metadata": {},
   "outputs": [
    {
     "data": {
      "text/html": [
       "<div>\n",
       "<style scoped>\n",
       "    .dataframe tbody tr th:only-of-type {\n",
       "        vertical-align: middle;\n",
       "    }\n",
       "\n",
       "    .dataframe tbody tr th {\n",
       "        vertical-align: top;\n",
       "    }\n",
       "\n",
       "    .dataframe thead th {\n",
       "        text-align: right;\n",
       "    }\n",
       "</style>\n",
       "<table border=\"1\" class=\"dataframe\">\n",
       "  <thead>\n",
       "    <tr style=\"text-align: right;\">\n",
       "      <th></th>\n",
       "      <th>Month</th>\n",
       "      <th>Monthly_Inhand_Salary</th>\n",
       "      <th>Num_Bank_Accounts</th>\n",
       "      <th>Num_Credit_Card</th>\n",
       "      <th>Interest_Rate</th>\n",
       "      <th>Num_of_Loan</th>\n",
       "      <th>Delay_from_due_date</th>\n",
       "      <th>Num_of_Delayed_Payment</th>\n",
       "      <th>Num_Credit_Inquiries</th>\n",
       "      <th>Outstanding_Debt</th>\n",
       "      <th>...</th>\n",
       "      <th>Age</th>\n",
       "      <th>Payment_of_Min_Amount_NM</th>\n",
       "      <th>Payment_of_Min_Amount_No</th>\n",
       "      <th>Payment_of_Min_Amount_Yes</th>\n",
       "      <th>Payment_Behaviour_High_spent_Large_value_payments</th>\n",
       "      <th>Payment_Behaviour_High_spent_Medium_value_payments</th>\n",
       "      <th>Payment_Behaviour_High_spent_Small_value_payments</th>\n",
       "      <th>Payment_Behaviour_Low_spent_Large_value_payments</th>\n",
       "      <th>Payment_Behaviour_Low_spent_Medium_value_payments</th>\n",
       "      <th>Payment_Behaviour_Low_spent_Small_value_payments</th>\n",
       "    </tr>\n",
       "  </thead>\n",
       "  <tbody>\n",
       "    <tr>\n",
       "      <th>count</th>\n",
       "      <td>48553.000000</td>\n",
       "      <td>48553.000000</td>\n",
       "      <td>48553.000000</td>\n",
       "      <td>48553.000000</td>\n",
       "      <td>48553.000000</td>\n",
       "      <td>48553.000000</td>\n",
       "      <td>48553.000000</td>\n",
       "      <td>48553.000000</td>\n",
       "      <td>48553.000000</td>\n",
       "      <td>48553.000000</td>\n",
       "      <td>...</td>\n",
       "      <td>48553.000000</td>\n",
       "      <td>48553.000000</td>\n",
       "      <td>48553.000000</td>\n",
       "      <td>48553.000000</td>\n",
       "      <td>48553.000000</td>\n",
       "      <td>48553.000000</td>\n",
       "      <td>48553.000000</td>\n",
       "      <td>48553.000000</td>\n",
       "      <td>48553.000000</td>\n",
       "      <td>48553.000000</td>\n",
       "    </tr>\n",
       "    <tr>\n",
       "      <th>mean</th>\n",
       "      <td>4.488785</td>\n",
       "      <td>4155.531542</td>\n",
       "      <td>16.574609</td>\n",
       "      <td>22.687249</td>\n",
       "      <td>74.505654</td>\n",
       "      <td>2.893395</td>\n",
       "      <td>20.970403</td>\n",
       "      <td>30.903302</td>\n",
       "      <td>27.340597</td>\n",
       "      <td>1417.608559</td>\n",
       "      <td>...</td>\n",
       "      <td>33.573353</td>\n",
       "      <td>0.119272</td>\n",
       "      <td>0.357218</td>\n",
       "      <td>0.523510</td>\n",
       "      <td>0.150866</td>\n",
       "      <td>0.190534</td>\n",
       "      <td>0.123473</td>\n",
       "      <td>0.112516</td>\n",
       "      <td>0.150660</td>\n",
       "      <td>0.271950</td>\n",
       "    </tr>\n",
       "    <tr>\n",
       "      <th>std</th>\n",
       "      <td>2.293813</td>\n",
       "      <td>3173.526932</td>\n",
       "      <td>114.427362</td>\n",
       "      <td>128.814423</td>\n",
       "      <td>476.489303</td>\n",
       "      <td>61.174505</td>\n",
       "      <td>14.770478</td>\n",
       "      <td>225.148420</td>\n",
       "      <td>191.366958</td>\n",
       "      <td>1147.908145</td>\n",
       "      <td>...</td>\n",
       "      <td>10.813373</td>\n",
       "      <td>0.324111</td>\n",
       "      <td>0.479185</td>\n",
       "      <td>0.499452</td>\n",
       "      <td>0.357922</td>\n",
       "      <td>0.392726</td>\n",
       "      <td>0.328983</td>\n",
       "      <td>0.316004</td>\n",
       "      <td>0.357721</td>\n",
       "      <td>0.444969</td>\n",
       "    </tr>\n",
       "    <tr>\n",
       "      <th>min</th>\n",
       "      <td>1.000000</td>\n",
       "      <td>319.556250</td>\n",
       "      <td>-1.000000</td>\n",
       "      <td>0.000000</td>\n",
       "      <td>1.000000</td>\n",
       "      <td>-100.000000</td>\n",
       "      <td>-5.000000</td>\n",
       "      <td>-3.000000</td>\n",
       "      <td>0.000000</td>\n",
       "      <td>0.770000</td>\n",
       "      <td>...</td>\n",
       "      <td>15.000000</td>\n",
       "      <td>0.000000</td>\n",
       "      <td>0.000000</td>\n",
       "      <td>0.000000</td>\n",
       "      <td>0.000000</td>\n",
       "      <td>0.000000</td>\n",
       "      <td>0.000000</td>\n",
       "      <td>0.000000</td>\n",
       "      <td>0.000000</td>\n",
       "      <td>0.000000</td>\n",
       "    </tr>\n",
       "    <tr>\n",
       "      <th>25%</th>\n",
       "      <td>2.000000</td>\n",
       "      <td>1617.160833</td>\n",
       "      <td>3.000000</td>\n",
       "      <td>4.000000</td>\n",
       "      <td>8.000000</td>\n",
       "      <td>1.000000</td>\n",
       "      <td>10.000000</td>\n",
       "      <td>9.000000</td>\n",
       "      <td>3.000000</td>\n",
       "      <td>566.340000</td>\n",
       "      <td>...</td>\n",
       "      <td>25.000000</td>\n",
       "      <td>0.000000</td>\n",
       "      <td>0.000000</td>\n",
       "      <td>0.000000</td>\n",
       "      <td>0.000000</td>\n",
       "      <td>0.000000</td>\n",
       "      <td>0.000000</td>\n",
       "      <td>0.000000</td>\n",
       "      <td>0.000000</td>\n",
       "      <td>0.000000</td>\n",
       "    </tr>\n",
       "    <tr>\n",
       "      <th>50%</th>\n",
       "      <td>4.000000</td>\n",
       "      <td>3044.806667</td>\n",
       "      <td>6.000000</td>\n",
       "      <td>6.000000</td>\n",
       "      <td>13.000000</td>\n",
       "      <td>3.000000</td>\n",
       "      <td>18.000000</td>\n",
       "      <td>14.000000</td>\n",
       "      <td>6.000000</td>\n",
       "      <td>1160.830000</td>\n",
       "      <td>...</td>\n",
       "      <td>33.000000</td>\n",
       "      <td>0.000000</td>\n",
       "      <td>0.000000</td>\n",
       "      <td>1.000000</td>\n",
       "      <td>0.000000</td>\n",
       "      <td>0.000000</td>\n",
       "      <td>0.000000</td>\n",
       "      <td>0.000000</td>\n",
       "      <td>0.000000</td>\n",
       "      <td>0.000000</td>\n",
       "    </tr>\n",
       "    <tr>\n",
       "      <th>75%</th>\n",
       "      <td>6.000000</td>\n",
       "      <td>5913.505000</td>\n",
       "      <td>7.000000</td>\n",
       "      <td>7.000000</td>\n",
       "      <td>20.000000</td>\n",
       "      <td>5.000000</td>\n",
       "      <td>28.000000</td>\n",
       "      <td>18.000000</td>\n",
       "      <td>9.000000</td>\n",
       "      <td>1924.320000</td>\n",
       "      <td>...</td>\n",
       "      <td>41.000000</td>\n",
       "      <td>0.000000</td>\n",
       "      <td>1.000000</td>\n",
       "      <td>1.000000</td>\n",
       "      <td>0.000000</td>\n",
       "      <td>0.000000</td>\n",
       "      <td>0.000000</td>\n",
       "      <td>0.000000</td>\n",
       "      <td>0.000000</td>\n",
       "      <td>1.000000</td>\n",
       "    </tr>\n",
       "    <tr>\n",
       "      <th>max</th>\n",
       "      <td>8.000000</td>\n",
       "      <td>15167.180000</td>\n",
       "      <td>1794.000000</td>\n",
       "      <td>1499.000000</td>\n",
       "      <td>5797.000000</td>\n",
       "      <td>1485.000000</td>\n",
       "      <td>67.000000</td>\n",
       "      <td>4360.000000</td>\n",
       "      <td>2592.000000</td>\n",
       "      <td>4998.070000</td>\n",
       "      <td>...</td>\n",
       "      <td>95.000000</td>\n",
       "      <td>1.000000</td>\n",
       "      <td>1.000000</td>\n",
       "      <td>1.000000</td>\n",
       "      <td>1.000000</td>\n",
       "      <td>1.000000</td>\n",
       "      <td>1.000000</td>\n",
       "      <td>1.000000</td>\n",
       "      <td>1.000000</td>\n",
       "      <td>1.000000</td>\n",
       "    </tr>\n",
       "  </tbody>\n",
       "</table>\n",
       "<p>8 rows × 24 columns</p>\n",
       "</div>"
      ],
      "text/plain": [
       "              Month  Monthly_Inhand_Salary  Num_Bank_Accounts  \\\n",
       "count  48553.000000           48553.000000       48553.000000   \n",
       "mean       4.488785            4155.531542          16.574609   \n",
       "std        2.293813            3173.526932         114.427362   \n",
       "min        1.000000             319.556250          -1.000000   \n",
       "25%        2.000000            1617.160833           3.000000   \n",
       "50%        4.000000            3044.806667           6.000000   \n",
       "75%        6.000000            5913.505000           7.000000   \n",
       "max        8.000000           15167.180000        1794.000000   \n",
       "\n",
       "       Num_Credit_Card  Interest_Rate   Num_of_Loan  Delay_from_due_date  \\\n",
       "count     48553.000000   48553.000000  48553.000000         48553.000000   \n",
       "mean         22.687249      74.505654      2.893395            20.970403   \n",
       "std         128.814423     476.489303     61.174505            14.770478   \n",
       "min           0.000000       1.000000   -100.000000            -5.000000   \n",
       "25%           4.000000       8.000000      1.000000            10.000000   \n",
       "50%           6.000000      13.000000      3.000000            18.000000   \n",
       "75%           7.000000      20.000000      5.000000            28.000000   \n",
       "max        1499.000000    5797.000000   1485.000000            67.000000   \n",
       "\n",
       "       Num_of_Delayed_Payment  Num_Credit_Inquiries  Outstanding_Debt  ...  \\\n",
       "count            48553.000000          48553.000000      48553.000000  ...   \n",
       "mean                30.903302             27.340597       1417.608559  ...   \n",
       "std                225.148420            191.366958       1147.908145  ...   \n",
       "min                 -3.000000              0.000000          0.770000  ...   \n",
       "25%                  9.000000              3.000000        566.340000  ...   \n",
       "50%                 14.000000              6.000000       1160.830000  ...   \n",
       "75%                 18.000000              9.000000       1924.320000  ...   \n",
       "max               4360.000000           2592.000000       4998.070000  ...   \n",
       "\n",
       "                Age  Payment_of_Min_Amount_NM  Payment_of_Min_Amount_No  \\\n",
       "count  48553.000000              48553.000000              48553.000000   \n",
       "mean      33.573353                  0.119272                  0.357218   \n",
       "std       10.813373                  0.324111                  0.479185   \n",
       "min       15.000000                  0.000000                  0.000000   \n",
       "25%       25.000000                  0.000000                  0.000000   \n",
       "50%       33.000000                  0.000000                  0.000000   \n",
       "75%       41.000000                  0.000000                  1.000000   \n",
       "max       95.000000                  1.000000                  1.000000   \n",
       "\n",
       "       Payment_of_Min_Amount_Yes  \\\n",
       "count               48553.000000   \n",
       "mean                    0.523510   \n",
       "std                     0.499452   \n",
       "min                     0.000000   \n",
       "25%                     0.000000   \n",
       "50%                     1.000000   \n",
       "75%                     1.000000   \n",
       "max                     1.000000   \n",
       "\n",
       "       Payment_Behaviour_High_spent_Large_value_payments  \\\n",
       "count                                       48553.000000   \n",
       "mean                                            0.150866   \n",
       "std                                             0.357922   \n",
       "min                                             0.000000   \n",
       "25%                                             0.000000   \n",
       "50%                                             0.000000   \n",
       "75%                                             0.000000   \n",
       "max                                             1.000000   \n",
       "\n",
       "       Payment_Behaviour_High_spent_Medium_value_payments  \\\n",
       "count                                       48553.000000    \n",
       "mean                                            0.190534    \n",
       "std                                             0.392726    \n",
       "min                                             0.000000    \n",
       "25%                                             0.000000    \n",
       "50%                                             0.000000    \n",
       "75%                                             0.000000    \n",
       "max                                             1.000000    \n",
       "\n",
       "       Payment_Behaviour_High_spent_Small_value_payments  \\\n",
       "count                                       48553.000000   \n",
       "mean                                            0.123473   \n",
       "std                                             0.328983   \n",
       "min                                             0.000000   \n",
       "25%                                             0.000000   \n",
       "50%                                             0.000000   \n",
       "75%                                             0.000000   \n",
       "max                                             1.000000   \n",
       "\n",
       "       Payment_Behaviour_Low_spent_Large_value_payments  \\\n",
       "count                                      48553.000000   \n",
       "mean                                           0.112516   \n",
       "std                                            0.316004   \n",
       "min                                            0.000000   \n",
       "25%                                            0.000000   \n",
       "50%                                            0.000000   \n",
       "75%                                            0.000000   \n",
       "max                                            1.000000   \n",
       "\n",
       "       Payment_Behaviour_Low_spent_Medium_value_payments  \\\n",
       "count                                       48553.000000   \n",
       "mean                                            0.150660   \n",
       "std                                             0.357721   \n",
       "min                                             0.000000   \n",
       "25%                                             0.000000   \n",
       "50%                                             0.000000   \n",
       "75%                                             0.000000   \n",
       "max                                             1.000000   \n",
       "\n",
       "       Payment_Behaviour_Low_spent_Small_value_payments  \n",
       "count                                      48553.000000  \n",
       "mean                                           0.271950  \n",
       "std                                            0.444969  \n",
       "min                                            0.000000  \n",
       "25%                                            0.000000  \n",
       "50%                                            0.000000  \n",
       "75%                                            1.000000  \n",
       "max                                            1.000000  \n",
       "\n",
       "[8 rows x 24 columns]"
      ]
     },
     "execution_count": 5,
     "metadata": {},
     "output_type": "execute_result"
    }
   ],
   "source": [
    "X.describe()"
   ]
  },
  {
   "cell_type": "code",
   "execution_count": 6,
   "id": "d66d6973",
   "metadata": {},
   "outputs": [],
   "source": [
    "from sklearn.model_selection import train_test_split\n",
    "X_train, X_test, y_train, y_test = train_test_split(X, y, random_state=1)"
   ]
  },
  {
   "cell_type": "raw",
   "id": "fc9ca220",
   "metadata": {},
   "source": [
    "RandomOversampler"
   ]
  },
  {
   "cell_type": "code",
   "execution_count": 8,
   "id": "89e20e71",
   "metadata": {},
   "outputs": [],
   "source": [
    "# Resample the training data with the RandomOversampler\n",
    "from imblearn.over_sampling import RandomOverSampler\n",
    "ros = RandomOverSampler(random_state=1)\n",
    "X_resampled, y_resampled = ros.fit_resample(X_train, y_train)\n"
   ]
  },
  {
   "cell_type": "code",
   "execution_count": 9,
   "id": "8a27a836",
   "metadata": {},
   "outputs": [],
   "source": [
    "from pathlib import Path\n",
    "from collections import Counter"
   ]
  },
  {
   "cell_type": "code",
   "execution_count": 10,
   "id": "3540b86a",
   "metadata": {},
   "outputs": [
    {
     "data": {
      "text/plain": [
       "Counter({'Credit_Score': 1})"
      ]
     },
     "execution_count": 10,
     "metadata": {},
     "output_type": "execute_result"
    }
   ],
   "source": [
    "Counter(y_resampled)"
   ]
  },
  {
   "cell_type": "code",
   "execution_count": 11,
   "id": "0693fc95",
   "metadata": {},
   "outputs": [
    {
     "name": "stderr",
     "output_type": "stream",
     "text": [
      "/Users/liuyidi/opt/anaconda3/envs/mlenv/lib/python3.7/site-packages/sklearn/utils/validation.py:993: DataConversionWarning: A column-vector y was passed when a 1d array was expected. Please change the shape of y to (n_samples, ), for example using ravel().\n",
      "  y = column_or_1d(y, warn=True)\n",
      "/Users/liuyidi/opt/anaconda3/envs/mlenv/lib/python3.7/site-packages/sklearn/linear_model/_logistic.py:818: ConvergenceWarning: lbfgs failed to converge (status=2):\n",
      "ABNORMAL_TERMINATION_IN_LNSRCH.\n",
      "\n",
      "Increase the number of iterations (max_iter) or scale the data as shown in:\n",
      "    https://scikit-learn.org/stable/modules/preprocessing.html\n",
      "Please also refer to the documentation for alternative solver options:\n",
      "    https://scikit-learn.org/stable/modules/linear_model.html#logistic-regression\n",
      "  extra_warning_msg=_LOGISTIC_SOLVER_CONVERGENCE_MSG,\n"
     ]
    },
    {
     "data": {
      "text/plain": [
       "LogisticRegression(random_state=1)"
      ]
     },
     "execution_count": 11,
     "metadata": {},
     "output_type": "execute_result"
    }
   ],
   "source": [
    "# Train the Logistic Regression model using the resampled data\n",
    "from sklearn.linear_model import LogisticRegression\n",
    "model = LogisticRegression(solver='lbfgs',random_state=1)\n",
    "model.fit(X_resampled, y_resampled)\n"
   ]
  },
  {
   "cell_type": "code",
   "execution_count": 12,
   "id": "b27ef7cc",
   "metadata": {},
   "outputs": [
    {
     "data": {
      "text/plain": [
       "0.3333333333333333"
      ]
     },
     "execution_count": 12,
     "metadata": {},
     "output_type": "execute_result"
    }
   ],
   "source": [
    "# Calculated the balanced accuracy score\n",
    "y_pred = model.predict(X_test)\n",
    "from sklearn.metrics import balanced_accuracy_score\n",
    "balanced_accuracy_score(y_test, y_pred)\n"
   ]
  },
  {
   "cell_type": "code",
   "execution_count": 13,
   "id": "40a11480",
   "metadata": {},
   "outputs": [
    {
     "data": {
      "text/plain": [
       "array([[2117,    0,    0],\n",
       "       [3594,    0,    0],\n",
       "       [6428,    0,    0]])"
      ]
     },
     "execution_count": 13,
     "metadata": {},
     "output_type": "execute_result"
    }
   ],
   "source": [
    "# Display the confusion matrix\n",
    "from sklearn.metrics import confusion_matrix\n",
    "confusion_matrix(y_test,y_pred)"
   ]
  },
  {
   "cell_type": "code",
   "execution_count": 14,
   "id": "a754e977",
   "metadata": {},
   "outputs": [
    {
     "name": "stdout",
     "output_type": "stream",
     "text": [
      "                   pre       rec       spe        f1       geo       iba       sup\n",
      "\n",
      "       Good       0.17      1.00      0.00      0.30      0.00      0.00      2117\n",
      "       Poor       0.00      0.00      1.00      0.00      0.00      0.00      3594\n",
      "   Standard       0.00      0.00      1.00      0.00      0.00      0.00      6428\n",
      "\n",
      "avg / total       0.03      0.17      0.83      0.05      0.00      0.00     12139\n",
      "\n"
     ]
    },
    {
     "name": "stderr",
     "output_type": "stream",
     "text": [
      "/Users/liuyidi/opt/anaconda3/envs/mlenv/lib/python3.7/site-packages/sklearn/metrics/_classification.py:1318: UndefinedMetricWarning: Precision and F-score are ill-defined and being set to 0.0 in labels with no predicted samples. Use `zero_division` parameter to control this behavior.\n",
      "  _warn_prf(average, modifier, msg_start, len(result))\n"
     ]
    }
   ],
   "source": [
    "# Print the imbalanced classification report\n",
    "from imblearn.metrics import classification_report_imbalanced\n",
    "print(classification_report_imbalanced(y_test, y_pred))\n"
   ]
  },
  {
   "cell_type": "raw",
   "id": "5c59f370",
   "metadata": {},
   "source": [
    "SMOTE"
   ]
  },
  {
   "cell_type": "code",
   "execution_count": 15,
   "id": "5a12e306",
   "metadata": {},
   "outputs": [
    {
     "data": {
      "text/plain": [
       "Counter({'Credit_Score': 1})"
      ]
     },
     "execution_count": 15,
     "metadata": {},
     "output_type": "execute_result"
    }
   ],
   "source": [
    "# Resample the training data with SMOTE\n",
    "from imblearn.over_sampling import SMOTE\n",
    "X_resampled, y_resampled = SMOTE(random_state=1, sampling_strategy='auto').fit_resample(\n",
    "    X_train, y_train\n",
    ")\n",
    "Counter(y_resampled)"
   ]
  },
  {
   "cell_type": "code",
   "execution_count": 16,
   "id": "9d334257",
   "metadata": {},
   "outputs": [
    {
     "name": "stderr",
     "output_type": "stream",
     "text": [
      "/Users/liuyidi/opt/anaconda3/envs/mlenv/lib/python3.7/site-packages/sklearn/utils/validation.py:993: DataConversionWarning: A column-vector y was passed when a 1d array was expected. Please change the shape of y to (n_samples, ), for example using ravel().\n",
      "  y = column_or_1d(y, warn=True)\n"
     ]
    },
    {
     "data": {
      "text/plain": [
       "LogisticRegression(random_state=1)"
      ]
     },
     "execution_count": 16,
     "metadata": {},
     "output_type": "execute_result"
    }
   ],
   "source": [
    "# Train the Logistic Regression model using the resampled data\n",
    "model = LogisticRegression(solver='lbfgs', random_state=1)\n",
    "model.fit(X_resampled, y_resampled)"
   ]
  },
  {
   "cell_type": "code",
   "execution_count": 17,
   "id": "3199bd85",
   "metadata": {},
   "outputs": [
    {
     "data": {
      "text/plain": [
       "0.3333333333333333"
      ]
     },
     "execution_count": 17,
     "metadata": {},
     "output_type": "execute_result"
    }
   ],
   "source": [
    "# Calculated the balanced accuracy score\n",
    "y_pred = model.predict(X_test)\n",
    "balanced_accuracy_score(y_test, y_pred)\n"
   ]
  },
  {
   "cell_type": "code",
   "execution_count": 18,
   "id": "6f80813b",
   "metadata": {},
   "outputs": [
    {
     "data": {
      "text/plain": [
       "array([[2117,    0,    0],\n",
       "       [3594,    0,    0],\n",
       "       [6428,    0,    0]])"
      ]
     },
     "execution_count": 18,
     "metadata": {},
     "output_type": "execute_result"
    }
   ],
   "source": [
    "# Display the confusion matrix\n",
    "confusion_matrix(y_test, y_pred)"
   ]
  },
  {
   "cell_type": "code",
   "execution_count": 19,
   "id": "ae029bed",
   "metadata": {},
   "outputs": [
    {
     "name": "stdout",
     "output_type": "stream",
     "text": [
      "                   pre       rec       spe        f1       geo       iba       sup\n",
      "\n",
      "       Good       0.17      1.00      0.00      0.30      0.00      0.00      2117\n",
      "       Poor       0.00      0.00      1.00      0.00      0.00      0.00      3594\n",
      "   Standard       0.00      0.00      1.00      0.00      0.00      0.00      6428\n",
      "\n",
      "avg / total       0.03      0.17      0.83      0.05      0.00      0.00     12139\n",
      "\n"
     ]
    },
    {
     "name": "stderr",
     "output_type": "stream",
     "text": [
      "/Users/liuyidi/opt/anaconda3/envs/mlenv/lib/python3.7/site-packages/sklearn/metrics/_classification.py:1318: UndefinedMetricWarning: Precision and F-score are ill-defined and being set to 0.0 in labels with no predicted samples. Use `zero_division` parameter to control this behavior.\n",
      "  _warn_prf(average, modifier, msg_start, len(result))\n"
     ]
    }
   ],
   "source": [
    "# Print the imbalanced classification report\n",
    "print(classification_report_imbalanced(y_test, y_pred))\n"
   ]
  },
  {
   "cell_type": "raw",
   "id": "144b3cca",
   "metadata": {},
   "source": [
    "ClusterCentroids resampler"
   ]
  },
  {
   "cell_type": "code",
   "execution_count": 20,
   "id": "33cf713a",
   "metadata": {},
   "outputs": [
    {
     "name": "stderr",
     "output_type": "stream",
     "text": [
      "/Users/liuyidi/opt/anaconda3/envs/mlenv/lib/python3.7/site-packages/imblearn/under_sampling/_prototype_generation/_cluster_centroids.py:178: ConvergenceWarning: Number of distinct clusters (6517) found smaller than n_clusters (6519). Possibly due to duplicate points in X.\n",
      "  self.estimator_.fit(_safe_indexing(X, target_class_indices))\n",
      "/Users/liuyidi/opt/anaconda3/envs/mlenv/lib/python3.7/site-packages/imblearn/under_sampling/_prototype_generation/_cluster_centroids.py:178: ConvergenceWarning: Number of distinct clusters (6399) found smaller than n_clusters (6519). Possibly due to duplicate points in X.\n",
      "  self.estimator_.fit(_safe_indexing(X, target_class_indices))\n"
     ]
    },
    {
     "data": {
      "text/plain": [
       "Counter({'Credit_Score': 1})"
      ]
     },
     "execution_count": 20,
     "metadata": {},
     "output_type": "execute_result"
    }
   ],
   "source": [
    "# Resample the data using the ClusterCentroids resampler\n",
    "# Warning: This is a large dataset, and this step may take some time to complete\n",
    "from imblearn.under_sampling import ClusterCentroids\n",
    "cc = ClusterCentroids(random_state=1)\n",
    "X_resampled, y_resampled = cc.fit_resample(X_train, y_train)\n",
    "Counter(y_resampled)\n"
   ]
  },
  {
   "cell_type": "code",
   "execution_count": 21,
   "id": "f160db90",
   "metadata": {},
   "outputs": [
    {
     "name": "stderr",
     "output_type": "stream",
     "text": [
      "/Users/liuyidi/opt/anaconda3/envs/mlenv/lib/python3.7/site-packages/sklearn/utils/validation.py:993: DataConversionWarning: A column-vector y was passed when a 1d array was expected. Please change the shape of y to (n_samples, ), for example using ravel().\n",
      "  y = column_or_1d(y, warn=True)\n",
      "/Users/liuyidi/opt/anaconda3/envs/mlenv/lib/python3.7/site-packages/sklearn/linear_model/_logistic.py:818: ConvergenceWarning: lbfgs failed to converge (status=2):\n",
      "ABNORMAL_TERMINATION_IN_LNSRCH.\n",
      "\n",
      "Increase the number of iterations (max_iter) or scale the data as shown in:\n",
      "    https://scikit-learn.org/stable/modules/preprocessing.html\n",
      "Please also refer to the documentation for alternative solver options:\n",
      "    https://scikit-learn.org/stable/modules/linear_model.html#logistic-regression\n",
      "  extra_warning_msg=_LOGISTIC_SOLVER_CONVERGENCE_MSG,\n"
     ]
    },
    {
     "data": {
      "text/plain": [
       "LogisticRegression(random_state=1)"
      ]
     },
     "execution_count": 21,
     "metadata": {},
     "output_type": "execute_result"
    }
   ],
   "source": [
    "# Train the Logistic Regression model using the resampled data\n",
    "from sklearn.linear_model import LogisticRegression\n",
    "model = LogisticRegression(solver='lbfgs', random_state=1)\n",
    "model.fit(X_resampled, y_resampled)"
   ]
  },
  {
   "cell_type": "code",
   "execution_count": 22,
   "id": "cba4e1c4",
   "metadata": {},
   "outputs": [
    {
     "data": {
      "text/plain": [
       "0.3333333333333333"
      ]
     },
     "execution_count": 22,
     "metadata": {},
     "output_type": "execute_result"
    }
   ],
   "source": [
    "# Calculated the balanced accuracy score\n",
    "y_pred = model.predict(X_test)\n",
    "from sklearn.metrics import balanced_accuracy_score\n",
    "balanced_accuracy_score(y_test, y_pred)\n"
   ]
  },
  {
   "cell_type": "code",
   "execution_count": 23,
   "id": "f8711373",
   "metadata": {},
   "outputs": [
    {
     "data": {
      "text/plain": [
       "array([[2117,    0,    0],\n",
       "       [3594,    0,    0],\n",
       "       [6428,    0,    0]])"
      ]
     },
     "execution_count": 23,
     "metadata": {},
     "output_type": "execute_result"
    }
   ],
   "source": [
    "# Display the confusion matrix\n",
    "from sklearn.metrics import confusion_matrix\n",
    "confusion_matrix(y_test, y_pred)"
   ]
  },
  {
   "cell_type": "code",
   "execution_count": 24,
   "id": "327c04a8",
   "metadata": {},
   "outputs": [
    {
     "name": "stderr",
     "output_type": "stream",
     "text": [
      "/Users/liuyidi/opt/anaconda3/envs/mlenv/lib/python3.7/site-packages/sklearn/metrics/_classification.py:1318: UndefinedMetricWarning: Precision and F-score are ill-defined and being set to 0.0 in labels with no predicted samples. Use `zero_division` parameter to control this behavior.\n",
      "  _warn_prf(average, modifier, msg_start, len(result))\n"
     ]
    },
    {
     "name": "stdout",
     "output_type": "stream",
     "text": [
      "                   pre       rec       spe        f1       geo       iba       sup\n",
      "\n",
      "       Good       0.17      1.00      0.00      0.30      0.00      0.00      2117\n",
      "       Poor       0.00      0.00      1.00      0.00      0.00      0.00      3594\n",
      "   Standard       0.00      0.00      1.00      0.00      0.00      0.00      6428\n",
      "\n",
      "avg / total       0.03      0.17      0.83      0.05      0.00      0.00     12139\n",
      "\n"
     ]
    }
   ],
   "source": [
    "# Print the imbalanced classification report\n",
    "from imblearn.metrics import classification_report_imbalanced\n",
    "print(classification_report_imbalanced(y_test, y_pred))"
   ]
  },
  {
   "cell_type": "raw",
   "id": "f4464727",
   "metadata": {},
   "source": [
    "SMOTEENN"
   ]
  },
  {
   "cell_type": "code",
   "execution_count": 25,
   "id": "ba3efbeb",
   "metadata": {},
   "outputs": [
    {
     "data": {
      "text/plain": [
       "Counter({'Credit_Score': 1})"
      ]
     },
     "execution_count": 25,
     "metadata": {},
     "output_type": "execute_result"
    }
   ],
   "source": [
    "# Resample the training data with SMOTEENN\n",
    "# Warning: This is a large dataset, and this step may take some time to complete\n",
    "from imblearn.combine import SMOTEENN\n",
    "smote_enn = SMOTEENN(random_state=1)\n",
    "X_resampled, y_resampled = smote_enn.fit_resample(X_train, y_train)\n",
    "Counter(y_resampled)"
   ]
  },
  {
   "cell_type": "code",
   "execution_count": 26,
   "id": "541e41a8",
   "metadata": {},
   "outputs": [
    {
     "name": "stderr",
     "output_type": "stream",
     "text": [
      "/Users/liuyidi/opt/anaconda3/envs/mlenv/lib/python3.7/site-packages/sklearn/utils/validation.py:993: DataConversionWarning: A column-vector y was passed when a 1d array was expected. Please change the shape of y to (n_samples, ), for example using ravel().\n",
      "  y = column_or_1d(y, warn=True)\n",
      "/Users/liuyidi/opt/anaconda3/envs/mlenv/lib/python3.7/site-packages/sklearn/linear_model/_logistic.py:818: ConvergenceWarning: lbfgs failed to converge (status=1):\n",
      "STOP: TOTAL NO. of ITERATIONS REACHED LIMIT.\n",
      "\n",
      "Increase the number of iterations (max_iter) or scale the data as shown in:\n",
      "    https://scikit-learn.org/stable/modules/preprocessing.html\n",
      "Please also refer to the documentation for alternative solver options:\n",
      "    https://scikit-learn.org/stable/modules/linear_model.html#logistic-regression\n",
      "  extra_warning_msg=_LOGISTIC_SOLVER_CONVERGENCE_MSG,\n"
     ]
    },
    {
     "data": {
      "text/plain": [
       "LogisticRegression(random_state=1)"
      ]
     },
     "execution_count": 26,
     "metadata": {},
     "output_type": "execute_result"
    }
   ],
   "source": [
    "# Train the Logistic Regression model using the resampled data\n",
    "from sklearn.linear_model import LogisticRegression\n",
    "model = LogisticRegression(solver='lbfgs', random_state=1)\n",
    "model.fit(X_resampled, y_resampled)"
   ]
  },
  {
   "cell_type": "code",
   "execution_count": 27,
   "id": "9236fc67",
   "metadata": {},
   "outputs": [
    {
     "data": {
      "text/plain": [
       "0.560312257766894"
      ]
     },
     "execution_count": 27,
     "metadata": {},
     "output_type": "execute_result"
    }
   ],
   "source": [
    "# Calculated the balanced accuracy score\n",
    "y_pred = model.predict(X_test)\n",
    "from sklearn.metrics import balanced_accuracy_score\n",
    "balanced_accuracy_score(y_test, y_pred)"
   ]
  },
  {
   "cell_type": "code",
   "execution_count": 28,
   "id": "99fd3fde",
   "metadata": {},
   "outputs": [
    {
     "data": {
      "text/plain": [
       "array([[1911,  192,   14],\n",
       "       [ 809, 2778,    7],\n",
       "       [4315, 2079,   34]])"
      ]
     },
     "execution_count": 28,
     "metadata": {},
     "output_type": "execute_result"
    }
   ],
   "source": [
    "# Display the confusion matrix\n",
    "from sklearn.metrics import confusion_matrix\n",
    "confusion_matrix(y_test, y_pred)\n"
   ]
  },
  {
   "cell_type": "code",
   "execution_count": 29,
   "id": "45e935b5",
   "metadata": {},
   "outputs": [
    {
     "name": "stdout",
     "output_type": "stream",
     "text": [
      "                   pre       rec       spe        f1       geo       iba       sup\n",
      "\n",
      "       Good       0.27      0.90      0.49      0.42      0.66      0.46      2117\n",
      "       Poor       0.55      0.77      0.73      0.64      0.75      0.57      3594\n",
      "   Standard       0.62      0.01      1.00      0.01      0.07      0.00      6428\n",
      "\n",
      "avg / total       0.54      0.39      0.83      0.27      0.38      0.25     12139\n",
      "\n"
     ]
    }
   ],
   "source": [
    "# Print the imbalanced classification report\n",
    "from imblearn.metrics import classification_report_imbalanced\n",
    "\n",
    "print(classification_report_imbalanced(y_test, y_pred))"
   ]
  },
  {
   "cell_type": "code",
   "execution_count": null,
   "id": "139a6d0d",
   "metadata": {},
   "outputs": [],
   "source": []
  }
 ],
 "metadata": {
  "kernelspec": {
   "display_name": "mlenv",
   "language": "python",
   "name": "mlenv"
  },
  "language_info": {
   "codemirror_mode": {
    "name": "ipython",
    "version": 3
   },
   "file_extension": ".py",
   "mimetype": "text/x-python",
   "name": "python",
   "nbconvert_exporter": "python",
   "pygments_lexer": "ipython3",
   "version": "3.7.13"
  },
  "widgets": {
   "application/vnd.jupyter.widget-state+json": {
    "state": {},
    "version_major": 2,
    "version_minor": 0
   }
  }
 },
 "nbformat": 4,
 "nbformat_minor": 5
}
